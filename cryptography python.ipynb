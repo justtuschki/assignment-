{
 "cells": [
  {
   "cell_type": "code",
   "execution_count": null,
   "metadata": {},
   "outputs": [
    {
     "name": "stdout",
     "output_type": "stream",
     "text": [
      "\n",
      " Do you want to encrypt or decrypt the message?\n",
      " 1 to encrypt, 2 to decrypt or 0 to exit program. 1\n",
      "\n",
      "Enter message for encryption: pandemic is over\n",
      "n_lbckga\u001e",
      "gq\u001e",
      "mtcp\n",
      "\n",
      "\n",
      "You have entered an invalid input, please try again. \n",
      "\n",
      "\n"
     ]
    }
   ],
   "source": [
    "result = ''\n",
    "choice = ''\n",
    "message = ''\n",
    "\n",
    "while choice != 0:\n",
    "    choice = input(\"\\n Do you want to encrypt or decrypt the message?\\n 1 to encrypt, 2 to decrypt or 0 to exit program. \")\n",
    "\n",
    "    if choice == '1':\n",
    "        message = input('\\nEnter message for encryption: ')\n",
    "        for i in range(0, len(message)):\n",
    "            result = result + chr(ord(message[i]) - 2)\n",
    "\n",
    "        print(result + '\\n\\n')\n",
    "        result = ''\n",
    "\n",
    "    if choice == '2':\n",
    "        message = input('\\nEnter message to decrypt: ')\n",
    "        for i in range(0, len(message)):\n",
    "            result = result + chr(ord(message[i]) + 2)\n",
    "\n",
    "        print(result + '\\n\\n')\n",
    "        result = ''\n",
    "\n",
    "    elif choice != '0':\n",
    "        print('You have entered an invalid input, please try again. \\n\\n')"
   ]
  },
  {
   "cell_type": "code",
   "execution_count": null,
   "metadata": {},
   "outputs": [],
   "source": []
  }
 ],
 "metadata": {
  "kernelspec": {
   "display_name": "Python 3",
   "language": "python",
   "name": "python3"
  },
  "language_info": {
   "codemirror_mode": {
    "name": "ipython",
    "version": 3
   },
   "file_extension": ".py",
   "mimetype": "text/x-python",
   "name": "python",
   "nbconvert_exporter": "python",
   "pygments_lexer": "ipython3",
   "version": "3.8.5"
  }
 },
 "nbformat": 4,
 "nbformat_minor": 4
}
